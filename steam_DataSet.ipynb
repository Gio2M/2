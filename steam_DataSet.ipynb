{
 "cells": [
  {
   "cell_type": "code",
   "execution_count": 22,
   "metadata": {},
   "outputs": [
    {
     "name": "stdout",
     "output_type": "stream",
     "text": [
      "          publisher                                             genres  \\\n",
      "0         Kotoshiro      [Action, Casual, Indie, Simulation, Strategy]   \n",
      "1  Making Fun, Inc.               [Free to Play, Indie, RPG, Strategy]   \n",
      "2      Poolians.com  [Casual, Free to Play, Indie, Simulation, Sports]   \n",
      "3              彼岸领域                        [Action, Adventure, Casual]   \n",
      "4               NaN                                                NaN   \n",
      "\n",
      "                  app_name                    title  \\\n",
      "0      Lost Summoner Kitty      Lost Summoner Kitty   \n",
      "1                Ironbound                Ironbound   \n",
      "2  Real Pool 3D - Poolians  Real Pool 3D - Poolians   \n",
      "3                  弹炸人2222                  弹炸人2222   \n",
      "4            Log Challenge                      NaN   \n",
      "\n",
      "                                                 url release_date  \\\n",
      "0  http://store.steampowered.com/app/761140/Lost_...   2018-01-04   \n",
      "1  http://store.steampowered.com/app/643980/Ironb...   2018-01-04   \n",
      "2  http://store.steampowered.com/app/670290/Real_...   2017-07-24   \n",
      "3     http://store.steampowered.com/app/767400/2222/   2017-12-07   \n",
      "4  http://store.steampowered.com/app/773570/Log_C...          NaN   \n",
      "\n",
      "                                                tags  discount_price  \\\n",
      "0      [Strategy, Action, Indie, Casual, Simulation]            4.49   \n",
      "1  [Free to Play, Strategy, Indie, RPG, Card Game...             NaN   \n",
      "2  [Free to Play, Simulation, Sports, Casual, Ind...             NaN   \n",
      "3                        [Action, Adventure, Casual]            0.83   \n",
      "4                    [Action, Indie, Casual, Sports]            1.79   \n",
      "\n",
      "                                         reviews_url  \\\n",
      "0  http://steamcommunity.com/app/761140/reviews/?...   \n",
      "1  http://steamcommunity.com/app/643980/reviews/?...   \n",
      "2  http://steamcommunity.com/app/670290/reviews/?...   \n",
      "3  http://steamcommunity.com/app/767400/reviews/?...   \n",
      "4  http://steamcommunity.com/app/773570/reviews/?...   \n",
      "\n",
      "                                               specs         price  \\\n",
      "0                                    [Single-player]          4.99   \n",
      "1  [Single-player, Multi-player, Online Multi-Pla...  Free To Play   \n",
      "2  [Single-player, Multi-player, Online Multi-Pla...  Free to Play   \n",
      "3                                    [Single-player]          0.99   \n",
      "4  [Single-player, Full controller support, HTC V...          2.99   \n",
      "\n",
      "   early_access      id         developer        sentiment metascore  \n",
      "0         False  761140         Kotoshiro              NaN       NaN  \n",
      "1         False  643980  Secret Level SRL  Mostly Positive       NaN  \n",
      "2         False  670290      Poolians.com  Mostly Positive       NaN  \n",
      "3         False  767400              彼岸领域              NaN       NaN  \n",
      "4         False  773570               NaN              NaN       NaN  \n"
     ]
    }
   ],
   "source": [
    "import pandas as pd\n",
    "\n",
    "# Ruta al archivo JSON\n",
    "file_path = '..\\PI MLOps - STEAM\\steam_games.json'\n",
    "\n",
    "# Leer el archivo JSON línea por línea y cargar los datos en una lista\n",
    "data_list = []\n",
    "with open(file_path, 'r') as f:\n",
    "    for line in f:\n",
    "        data_list.append(eval(line.strip()))\n",
    "\n",
    "# Crear DataFrame a partir de la lista de diccionarios\n",
    "df = pd.DataFrame(data_list)\n",
    "\n",
    "# Mostrar las primeras filas del DataFrame\n",
    "print(df.head())"
   ]
  },
  {
   "cell_type": "code",
   "execution_count": 4,
   "metadata": {},
   "outputs": [
    {
     "data": {
      "text/plain": [
       "(32135, 16)"
      ]
     },
     "execution_count": 4,
     "metadata": {},
     "output_type": "execute_result"
    }
   ],
   "source": [
    "df.shape"
   ]
  },
  {
   "cell_type": "code",
   "execution_count": 5,
   "metadata": {},
   "outputs": [
    {
     "name": "stdout",
     "output_type": "stream",
     "text": [
      "<class 'pandas.core.frame.DataFrame'>\n",
      "RangeIndex: 32135 entries, 0 to 32134\n",
      "Data columns (total 16 columns):\n",
      " #   Column          Non-Null Count  Dtype  \n",
      "---  ------          --------------  -----  \n",
      " 0   publisher       24083 non-null  object \n",
      " 1   genres          28852 non-null  object \n",
      " 2   app_name        32133 non-null  object \n",
      " 3   title           30085 non-null  object \n",
      " 4   url             32135 non-null  object \n",
      " 5   release_date    30068 non-null  object \n",
      " 6   tags            31972 non-null  object \n",
      " 7   discount_price  225 non-null    float64\n",
      " 8   reviews_url     32133 non-null  object \n",
      " 9   specs           31465 non-null  object \n",
      " 10  price           30758 non-null  object \n",
      " 11  early_access    32135 non-null  bool   \n",
      " 12  id              32133 non-null  object \n",
      " 13  developer       28836 non-null  object \n",
      " 14  sentiment       24953 non-null  object \n",
      " 15  metascore       2677 non-null   object \n",
      "dtypes: bool(1), float64(1), object(14)\n",
      "memory usage: 3.7+ MB\n"
     ]
    }
   ],
   "source": [
    "df.info()"
   ]
  },
  {
   "cell_type": "code",
   "execution_count": 21,
   "metadata": {},
   "outputs": [
    {
     "name": "stdout",
     "output_type": "stream",
     "text": [
      "['A More Beautiful World - A Kinetic Visual Novel', 'A Near Dawn', 'AWAY', 'Agent X: Equation Rider', 'Albino Lullaby: Episode 3', \"Alice's Lullaby: Episode 2\", 'Apocalipsis', 'Arctic Adventure: Episodes', 'Army of Tentacles: (Not) A Cthulhu Dating Sim: Black GOAT of the Woods Edition', 'BAE 2', 'BASIC8', 'Bartigo', 'Battle Royale Trainer', 'Beach Rules', 'Bitcoin Clicker', 'BlockShip Wars: Roguelike', 'Bloodworks', 'Boomer Rampage', 'Bootleg Systems', 'Bound To Light', 'Bravium', 'Capsular', 'Cartoon Hero', 'Casino Slot Machines - The Spring', 'Christmas Tale - Visual Novel', 'Colony On Mars', 'Comit the Astrodian 3', 'DUAL GEAR', 'Dark Devotion', 'Darkness and a Crowd', \"Devil's Land\", 'Diesel Guns', 'DinoBlaster', 'Disturbed 2', 'Divinia Chronicles: Relics of Gan-Ti', 'DownWind', 'Empires Of Creation', 'Ender Story: Chapter 1', 'Epic Cards Battle 2-Dragons Rising(TCG)', 'Fading of Zarya 7', 'Fatal Twelve', 'Fresh Body: Original Soundtrack', 'GRAY GROFA', 'Galactic Harvester', 'Graveyard Keeper', 'HORDE ATTACK', 'High School Simulator', 'INTERSTELLAR PRIME', 'INTRUDER - WAR AREAS', 'Infinos Gaiden', 'Ironbound', 'Island Build Masters', 'Kalen Chock Presents: 2017 Free Tutorial', 'Kebab it Up!', 'LEGRAND LEGACY: Tale of the Fatebounds', 'LOGistICAL: South Africa', 'Legacy of Medieval', 'Lost Cities', 'Lost Moon', 'Lost Summoner Kitty', \"Love, Money, Rock'n'Roll\", 'MagiCat Original Soundtrack', 'Mesozoica', 'My Time At Portia', 'NARK THE DRAGON', 'NeoBalls', 'Nightshade Additional Scenarios', 'PLAYERUNKN4WN: Zombie', 'PearsAndGrayWitch', 'Planetarium 2 - Zen Odyssey', 'Platform Golf', 'Praey for the Gods', 'Prison Bomber', 'Race', 'Railgunners', 'Raining blocks', 'Raise The Dead', 'Reality Incognita', 'Regions Of Ruin', 'Rheksetor: Waves of Fury', 'Robotpencil Presents: Creative Composition', 'Robotpencil Presents: Exercise: Brushwork', 'Robotpencil Presents: Understanding 3D for Concept', 'Russian Roads', 'SCP-087: Recovered document', 'SNOW - All Access Basic Pass', 'SNOW - All Access Legend Pass', 'SNOW - All Access Pro Pass', 'SNOW - Lifetime Pack', 'SNOW - Starter Pack', 'Shotgun Legend', 'Snail Trek - Chapter 3: Lettuce Be', 'Song of Memories', 'Starwalker', 'Street Legal Racing: Redline - High Quality Cars Pack', 'Super Bugman Extreme Ultra', 'Tactics Forever', 'Tap Adventure: Time Travel - Promo Pack', 'The Last Mission', \"The Mind's Eclipse\", 'The Warrior Of Treasures', 'The first thrust of God', 'The first thrust of God - All Aircrafts', 'The spy who shot me™', 'TileDynasty FPS Arena', 'Treadnauts', 'Twisted Enhanced Edition', 'Underdone - Soundtrack', 'Underhero', 'Vaporwave Simulator', 'Veterans Online', 'Visions of Zosimos', 'Watch Me Jump', 'Welcome to Orochi Park', 'Welcome to the Game II', 'Witchball', 'Ys VIII: Lacrimosa of DANA / イースVIII-Lacrimosa of DANA-', 'while True: learn()', '初颜 - The Prototype', '忍者村大战2', '茂伸奇谈-Monobeno-']\n"
     ]
    }
   ],
   "source": [
    "import pandas as pd\n",
    "\n",
    "def juegos_por_año(df, año):\n",
    "    # Filtrar el DataFrame para obtener solo los juegos del año proporcionado\n",
    "    juegos_del_año = df[df['release_date'].str.startswith(año) & pd.notna(df['release_date'])]\n",
    "    \n",
    "    # Validar si se encontraron juegos para el año dado\n",
    "    if juegos_del_año.empty:\n",
    "        return f\"No se encontraron juegos para el año {año}\"\n",
    "    \n",
    "    # Obtener la lista de nombres de juegos\n",
    "    lista_juegos = sorted(juegos_del_año['app_name'].tolist())\n",
    "    \n",
    "    # Devolver la lista de juegos\n",
    "    return lista_juegos\n",
    "\n",
    "resultado = juegos_por_año(df, '2018')  # Convierte el año en una cadena de texto\n",
    "print(resultado)"
   ]
  }
 ],
 "metadata": {
  "kernelspec": {
   "display_name": "Python 3",
   "language": "python",
   "name": "python3"
  },
  "language_info": {
   "codemirror_mode": {
    "name": "ipython",
    "version": 3
   },
   "file_extension": ".py",
   "mimetype": "text/x-python",
   "name": "python",
   "nbconvert_exporter": "python",
   "pygments_lexer": "ipython3",
   "version": "3.10.9"
  },
  "orig_nbformat": 4
 },
 "nbformat": 4,
 "nbformat_minor": 2
}
